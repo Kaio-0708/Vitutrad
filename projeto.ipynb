{
 "cells": [
  {
   "cell_type": "code",
   "execution_count": 7,
   "metadata": {},
   "outputs": [
    {
     "name": "stdout",
     "output_type": "stream",
     "text": [
      "Escolha uma opção:\n",
      "1- Traduzir\n",
      "2- Finalizar\n"
     ]
    }
   ],
   "source": [
    "from googletrans import Translator\n",
    "from gtts import gTTS\n",
    "import os\n",
    "\n",
    "def main():\n",
    "    while True:\n",
    "        print(\"Escolha uma opção:\")\n",
    "        print(\"1- Traduzir\")\n",
    "        print(\"2- Finalizar\")\n",
    "        \n",
    "        opcao = input(\"Digite a opção desejada: \")\n",
    "        \n",
    "        if opcao == '1':\n",
    "            texto_em_portugues = input(\"Digite um texto em português: \")\n",
    "            print(\"Escolha o idioma para traduzir:\")\n",
    "            print(\"1- Inglês\")\n",
    "            print(\"2- Espanhol\")\n",
    "            print(\"3- Francês\")\n",
    "            print(\"4- Italiano\")\n",
    "            \n",
    "            idioma_opcao = input(\"Digite a opção do idioma desejado: \")\n",
    "            \n",
    "            if idioma_opcao == '1':\n",
    "                idioma_destino = 'en'\n",
    "            elif idioma_opcao == '2':\n",
    "                idioma_destino = 'es'\n",
    "            elif idioma_opcao == '3':\n",
    "                idioma_destino = 'fr'\n",
    "            elif idioma_opcao == '4':\n",
    "                idioma_destino = 'it'\n",
    "            else:\n",
    "                print(\"Opção de idioma inválida! Traduzindo para inglês por padrão.\")\n",
    "                idioma_destino = 'en'\n",
    "                \n",
    "            texto_traduzido = traduzir_texto(texto_em_portugues, idioma_destino)\n",
    "            falar_texto(texto_traduzido, idioma_destino)\n",
    "        \n",
    "        elif opcao == '2':\n",
    "            print(\"Finalizando\")\n",
    "            break\n",
    "        else: \n",
    "            print(\"Opção inválida! Tente novamente.\")\n",
    "\n",
    "def traduzir_texto(texto, idioma_destino):\n",
    "    tradutor = Translator()\n",
    "    traducao = tradutor.translate(texto, src='pt', dest=idioma_destino)\n",
    "    texto_traduzido = traducao.text\n",
    "    print(f\"Tradução para o idioma escolhido: {texto_traduzido}\")\n",
    "    return texto_traduzido\n",
    "\n",
    "def falar_texto(texto, idioma_destino):\n",
    "    tts = gTTS(texto, lang=idioma_destino)\n",
    "    tts.save(\"traducao.mp3\")\n",
    "    os.system(\"start traducao.mp3\")  \n",
    "\n",
    "if __name__ == \"__main__\":\n",
    "    main()"
   ]
  }
 ],
 "metadata": {
  "kernelspec": {
   "display_name": "Python 3",
   "language": "python",
   "name": "python3"
  },
  "language_info": {
   "codemirror_mode": {
    "name": "ipython",
    "version": 3
   },
   "file_extension": ".py",
   "mimetype": "text/x-python",
   "name": "python",
   "nbconvert_exporter": "python",
   "pygments_lexer": "ipython3",
   "version": "3.12.3"
  }
 },
 "nbformat": 4,
 "nbformat_minor": 2
}
